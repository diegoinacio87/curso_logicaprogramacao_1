{
  "nbformat": 4,
  "nbformat_minor": 0,
  "metadata": {
    "colab": {
      "provenance": [],
      "authorship_tag": "ABX9TyOVF/UCab9tPJY75F+0gkMh",
      "include_colab_link": true
    },
    "kernelspec": {
      "name": "python3",
      "display_name": "Python 3"
    },
    "language_info": {
      "name": "python"
    }
  },
  "cells": [
    {
      "cell_type": "markdown",
      "metadata": {
        "id": "view-in-github",
        "colab_type": "text"
      },
      "source": [
        "<a href=\"https://colab.research.google.com/github/diegoinacio87/curso_logicaprogramacao_1/blob/main/AulaAlgoritimo.ipynb\" target=\"_parent\"><img src=\"https://colab.research.google.com/assets/colab-badge.svg\" alt=\"Open In Colab\"/></a>"
      ]
    },
    {
      "cell_type": "markdown",
      "source": [
        "# fazendo operações matemáticas no phyton"
      ],
      "metadata": {
        "id": "cAoMyQrH_FfS"
      }
    },
    {
      "cell_type": "code",
      "source": [
        "2*3 #multiplicação"
      ],
      "metadata": {
        "colab": {
          "base_uri": "https://localhost:8080/"
        },
        "id": "nHLyYY1r_Bpx",
        "outputId": "45ec16fe-3326-45d2-92ff-da7b78a27e47"
      },
      "execution_count": null,
      "outputs": [
        {
          "output_type": "execute_result",
          "data": {
            "text/plain": [
              "6"
            ]
          },
          "metadata": {},
          "execution_count": 15
        }
      ]
    },
    {
      "cell_type": "code",
      "source": [
        "14//3 #divisão numeros inteiros"
      ],
      "metadata": {
        "colab": {
          "base_uri": "https://localhost:8080/"
        },
        "id": "WvpD6jAG_EEK",
        "outputId": "d9e00a3f-2225-4945-c642-b81a8758f52f"
      },
      "execution_count": null,
      "outputs": [
        {
          "output_type": "execute_result",
          "data": {
            "text/plain": [
              "4"
            ]
          },
          "metadata": {},
          "execution_count": 16
        }
      ]
    },
    {
      "cell_type": "code",
      "source": [
        "14%3 #resto divisão"
      ],
      "metadata": {
        "colab": {
          "base_uri": "https://localhost:8080/"
        },
        "id": "tRtKuJa-_NsB",
        "outputId": "1596d964-725d-4623-d048-a4a1c6ad240e"
      },
      "execution_count": null,
      "outputs": [
        {
          "output_type": "execute_result",
          "data": {
            "text/plain": [
              "2"
            ]
          },
          "metadata": {},
          "execution_count": 17
        }
      ]
    },
    {
      "cell_type": "code",
      "source": [
        "\"\"\"\n",
        "escrevendo texto longo\n",
        "para que tenhamos mais\n",
        "informações\n",
        "\"\"\"\n",
        "14 + 2 - ( 2 * 3 ) + 25"
      ],
      "metadata": {
        "colab": {
          "base_uri": "https://localhost:8080/"
        },
        "id": "3abuZzxe_0aU",
        "outputId": "30fde4b2-7f3f-41c2-d173-438ccd9633b2"
      },
      "execution_count": null,
      "outputs": [
        {
          "output_type": "execute_result",
          "data": {
            "text/plain": [
              "35"
            ]
          },
          "metadata": {},
          "execution_count": 18
        }
      ]
    },
    {
      "cell_type": "markdown",
      "source": [
        "Equações"
      ],
      "metadata": {
        "id": "Hx_YyJVfi0XX"
      }
    },
    {
      "cell_type": "code",
      "source": [
        " # equação de 1 grau : 8 = x + 3"
      ],
      "metadata": {
        "id": "lksN7J2bizEZ"
      },
      "execution_count": null,
      "outputs": []
    },
    {
      "cell_type": "code",
      "source": [
        " # equação de 2 grau : x = y + 3"
      ],
      "metadata": {
        "id": "ppWiNPxCjFWh"
      },
      "execution_count": null,
      "outputs": []
    },
    {
      "cell_type": "markdown",
      "source": [
        "VARIAVEIS"
      ],
      "metadata": {
        "id": "BWdNOKColPRp"
      }
    },
    {
      "cell_type": "code",
      "source": [
        "#atribuindo valores\n",
        "x = 100\n"
      ],
      "metadata": {
        "id": "GRa92wD7lSDJ"
      },
      "execution_count": null,
      "outputs": []
    },
    {
      "cell_type": "code",
      "source": [
        "# verificando valores\n",
        "x"
      ],
      "metadata": {
        "colab": {
          "base_uri": "https://localhost:8080/"
        },
        "id": "dp00ZEColXOg",
        "outputId": "3ec114c9-b229-434a-e33f-9b82e61fa4de"
      },
      "execution_count": null,
      "outputs": [
        {
          "output_type": "execute_result",
          "data": {
            "text/plain": [
              "100"
            ]
          },
          "metadata": {},
          "execution_count": 22
        }
      ]
    },
    {
      "cell_type": "code",
      "source": [
        "x + 2"
      ],
      "metadata": {
        "colab": {
          "base_uri": "https://localhost:8080/"
        },
        "id": "mBgIbps-lg_o",
        "outputId": "9798f067-d5b8-4e43-9479-64123dba9230"
      },
      "execution_count": null,
      "outputs": [
        {
          "output_type": "execute_result",
          "data": {
            "text/plain": [
              "102"
            ]
          },
          "metadata": {},
          "execution_count": 23
        }
      ]
    },
    {
      "cell_type": "code",
      "source": [
        "x - 2"
      ],
      "metadata": {
        "colab": {
          "base_uri": "https://localhost:8080/"
        },
        "id": "TAwUgvdVl2u_",
        "outputId": "d2bd7997-b358-4941-b3cd-20835e54723a"
      },
      "execution_count": null,
      "outputs": [
        {
          "output_type": "execute_result",
          "data": {
            "text/plain": [
              "98"
            ]
          },
          "metadata": {},
          "execution_count": 24
        }
      ]
    },
    {
      "cell_type": "code",
      "source": [
        "x * 2\n"
      ],
      "metadata": {
        "colab": {
          "base_uri": "https://localhost:8080/"
        },
        "id": "fBG-l9BDl4Qv",
        "outputId": "a2d0ff73-957c-45a0-ce72-efc95c216a3d"
      },
      "execution_count": null,
      "outputs": [
        {
          "output_type": "execute_result",
          "data": {
            "text/plain": [
              "200"
            ]
          },
          "metadata": {},
          "execution_count": 25
        }
      ]
    },
    {
      "cell_type": "code",
      "source": [
        "x / 2"
      ],
      "metadata": {
        "colab": {
          "base_uri": "https://localhost:8080/"
        },
        "id": "wYOaPOWAl6cI",
        "outputId": "4c545ef7-f8c3-4169-9e62-de5d6aaf9f86"
      },
      "execution_count": null,
      "outputs": [
        {
          "output_type": "execute_result",
          "data": {
            "text/plain": [
              "50.0"
            ]
          },
          "metadata": {},
          "execution_count": 26
        }
      ]
    },
    {
      "cell_type": "markdown",
      "source": [
        "TRABALHANDO COM VARIAVEIS NUMÉRICAS"
      ],
      "metadata": {
        "id": "cyUJjfjboC-J"
      }
    },
    {
      "cell_type": "code",
      "source": [
        "x = 14\n",
        "y = 3"
      ],
      "metadata": {
        "id": "MVL2KRHgoHnx"
      },
      "execution_count": null,
      "outputs": []
    },
    {
      "cell_type": "code",
      "source": [
        "x / y * 10\n"
      ],
      "metadata": {
        "colab": {
          "base_uri": "https://localhost:8080/"
        },
        "id": "dnvZllp-oUC5",
        "outputId": "0556d7e3-cc95-4cab-b060-be027a19c744"
      },
      "execution_count": null,
      "outputs": [
        {
          "output_type": "execute_result",
          "data": {
            "text/plain": [
              "46.66666666666667"
            ]
          },
          "metadata": {},
          "execution_count": 28
        }
      ]
    },
    {
      "cell_type": "markdown",
      "source": [
        "TIPOS DE VARIÁVEIS\n"
      ],
      "metadata": {
        "id": "3QQfclhRp136"
      }
    },
    {
      "cell_type": "code",
      "source": [
        "# concatenar numeros em textos\n",
        "x = str(1)\n",
        "y = str(1)"
      ],
      "metadata": {
        "id": "xgY8Rg6zp4bh"
      },
      "execution_count": null,
      "outputs": []
    },
    {
      "cell_type": "code",
      "source": [
        "x + y"
      ],
      "metadata": {
        "colab": {
          "base_uri": "https://localhost:8080/",
          "height": 35
        },
        "id": "IMjmjWADp-5o",
        "outputId": "88c4171a-a13f-4396-ec6e-926151c0347c"
      },
      "execution_count": null,
      "outputs": [
        {
          "output_type": "execute_result",
          "data": {
            "text/plain": [
              "'11'"
            ],
            "application/vnd.google.colaboratory.intrinsic+json": {
              "type": "string"
            }
          },
          "metadata": {},
          "execution_count": 31
        }
      ]
    },
    {
      "cell_type": "code",
      "source": [
        "# numero inteiro\n",
        "x = int(1.6)\n",
        "y = int(1.4)"
      ],
      "metadata": {
        "id": "m6SG2QAGqKCI"
      },
      "execution_count": null,
      "outputs": []
    },
    {
      "cell_type": "code",
      "source": [
        "x + y"
      ],
      "metadata": {
        "colab": {
          "base_uri": "https://localhost:8080/"
        },
        "id": "KoxsJuDYqN9A",
        "outputId": "b703cf9e-aa8b-4ec7-e711-f08c6af2498b"
      },
      "execution_count": null,
      "outputs": [
        {
          "output_type": "execute_result",
          "data": {
            "text/plain": [
              "2"
            ]
          },
          "metadata": {},
          "execution_count": 34
        }
      ]
    },
    {
      "cell_type": "code",
      "source": [
        "# numero com pontos\n",
        "x = float(1.6)\n",
        "y = float(1.4)\n",
        "z = x + y"
      ],
      "metadata": {
        "id": "u2k4fB2nqa8Z"
      },
      "execution_count": null,
      "outputs": []
    },
    {
      "cell_type": "code",
      "source": [
        "x + y"
      ],
      "metadata": {
        "colab": {
          "base_uri": "https://localhost:8080/"
        },
        "id": "o6TQnNZvqegJ",
        "outputId": "922a0c83-0517-417e-ba22-ebf05616345e"
      },
      "execution_count": null,
      "outputs": [
        {
          "output_type": "execute_result",
          "data": {
            "text/plain": [
              "3.0"
            ]
          },
          "metadata": {},
          "execution_count": 41
        }
      ]
    },
    {
      "cell_type": "markdown",
      "source": [
        "FUNÇÃO PRINT"
      ],
      "metadata": {
        "id": "eUujBSUYrdRi"
      }
    },
    {
      "cell_type": "code",
      "source": [
        "print('O processo foi concluído em:',z,'minutos.')"
      ],
      "metadata": {
        "colab": {
          "base_uri": "https://localhost:8080/"
        },
        "id": "qdYMXvdxqoD5",
        "outputId": "56e0033a-ed03-44ff-9d78-1639245709a6"
      },
      "execution_count": null,
      "outputs": [
        {
          "output_type": "stream",
          "name": "stdout",
          "text": [
            "O processo foi concluído em: 3.0 minutos.\n"
          ]
        }
      ]
    },
    {
      "cell_type": "markdown",
      "source": [
        "FUNÇÃO INPUT"
      ],
      "metadata": {
        "id": "8YAfStYOt1DT"
      }
    },
    {
      "cell_type": "code",
      "source": [
        "x = input('Digite sua senha ela tem que conter números e letras')\n",
        "print ('A senha digitada foi : ',x, 'Confere [Y/N]' )"
      ],
      "metadata": {
        "colab": {
          "base_uri": "https://localhost:8080/"
        },
        "id": "vi-k3pIlr4Xz",
        "outputId": "9a4c5150-6cbe-4a4a-8275-6f0d0359b818"
      },
      "execution_count": null,
      "outputs": [
        {
          "output_type": "stream",
          "name": "stdout",
          "text": [
            "Digite sua senha ela tem que conter números e letrasDiego1987\n",
            "A senha digitada foi :  Diego1987 Confere [Y/N]\n"
          ]
        }
      ]
    },
    {
      "cell_type": "code",
      "source": [
        "x = int(input('Digite um número para multiplicar por 3: '))\n",
        "print ('A multiplicação é:', x*3)"
      ],
      "metadata": {
        "colab": {
          "base_uri": "https://localhost:8080/"
        },
        "id": "D0IWdPvLuo6j",
        "outputId": "4cd8791a-1b95-4f59-c0e4-8badb55ac14e"
      },
      "execution_count": null,
      "outputs": [
        {
          "output_type": "stream",
          "name": "stdout",
          "text": [
            "Digite um número para multiplicar por 3: 12\n",
            "A multiplicação é: 36\n"
          ]
        }
      ]
    },
    {
      "cell_type": "markdown",
      "source": [
        "CONDIÇÕES"
      ],
      "metadata": {
        "id": "ryBSiMxmxXWf"
      }
    },
    {
      "cell_type": "code",
      "source": [
        "Nota = 10\n",
        "if Nota >= 7:\n",
        "  print('Parábens você foi aprovado')\n",
        "  print('Sua média final foi:', Nota)\n",
        "  print('Continue se esforçando.')\n",
        "else:\n",
        "  print('Infelizmente você não atingiu a média necessária')\n",
        "  print('Sua média final foi: ', Nota)\n",
        "  print('Veja com seu orientador quais vão ser os próximos passos')"
      ],
      "metadata": {
        "colab": {
          "base_uri": "https://localhost:8080/"
        },
        "id": "FzF66hExxep6",
        "outputId": "fe1152c6-faff-4151-f80c-206cd012bced"
      },
      "execution_count": null,
      "outputs": [
        {
          "output_type": "stream",
          "name": "stdout",
          "text": [
            "Parábens você foi aprovado\n",
            "Sua média final foi: 10\n",
            "Continue se esforçando.\n"
          ]
        }
      ]
    },
    {
      "cell_type": "code",
      "source": [
        "Sexo = 'F'\n",
        "Idade = 15\n",
        "\n",
        "if Sexo == 'M' and (Idade >= 15 and Idade <=16 ):\n",
        "  print('Você pode participar da nossa peneira. Boa sorte:')\n",
        "else :\n",
        "  print('Infelizmente você não pode participar da nossa peneira. Proucure nossos funcionários para maiores informações.')"
      ],
      "metadata": {
        "colab": {
          "base_uri": "https://localhost:8080/"
        },
        "id": "mA2rnqa1yGeq",
        "outputId": "e89a5b71-84f4-4705-c6d8-5f4d7a154ce4"
      },
      "execution_count": null,
      "outputs": [
        {
          "output_type": "stream",
          "name": "stdout",
          "text": [
            "Infelizmente você não pode participar da nossa peneira. Proucure nossos funcionários para maiores informações.\n"
          ]
        }
      ]
    },
    {
      "cell_type": "code",
      "source": [
        "# Primeiro exemplo de condições sequênciais"
      ],
      "metadata": {
        "id": "OkwWWie67gzH"
      },
      "execution_count": null,
      "outputs": []
    },
    {
      "cell_type": "code",
      "source": [
        "Sexo = 'F'\n",
        "Idade = 15\n",
        "\n",
        "if Sexo == 'M' and Idade <=10:\n",
        "  print('Carrinho')\n",
        "elif Sexo == 'M' and Idade >10:\n",
        "  print('Bicicleta')\n",
        "elif Sexo == 'F' and Idade <=10:\n",
        "  print('Boneca')\n",
        "elif Sexo == 'F' and Idade >10:\n",
        "  print('Celular')\n",
        "else:\n",
        "  print ('Não se aplica a nenhuma regra.')"
      ],
      "metadata": {
        "colab": {
          "base_uri": "https://localhost:8080/"
        },
        "id": "cQB14MNf7lKF",
        "outputId": "b724197c-41cf-46cc-9999-96af1334d8d1"
      },
      "execution_count": null,
      "outputs": [
        {
          "output_type": "stream",
          "name": "stdout",
          "text": [
            "Celular\n"
          ]
        }
      ]
    },
    {
      "cell_type": "code",
      "source": [
        "Sexo = 'F'\n",
        "Idade = 15\n",
        "\n",
        "if Sexo == 'M':\n",
        "  if Idade <=10:\n",
        "    print('Carrinho')\n",
        "  else:\n",
        "    print('Bicicleta')\n",
        "elif Sexo == 'F':\n",
        "  if Idade <=10:\n",
        "    print('Boneca')\n",
        "  else:\n",
        "    print('Celular')\n",
        "else:\n",
        "  print('Não válido.')"
      ],
      "metadata": {
        "colab": {
          "base_uri": "https://localhost:8080/"
        },
        "id": "SNJuu9rI7od8",
        "outputId": "86d75757-4ce9-49f9-ff1a-9684c20d5d57"
      },
      "execution_count": null,
      "outputs": [
        {
          "output_type": "stream",
          "name": "stdout",
          "text": [
            "Celular\n"
          ]
        }
      ]
    },
    {
      "cell_type": "markdown",
      "source": [
        "LAÇOS DE REPETIÇÃO"
      ],
      "metadata": {
        "id": "ke2lTWlHypuS"
      }
    },
    {
      "cell_type": "code",
      "source": [
        "Multiplicador = 5\n",
        "LimInf = 1\n",
        "LimSup = 10\n",
        "\n",
        "while LimInf <= LimSup:\n",
        "  print('A multiplicação de', Multiplicador, 'x', LimInf , 'Resulta em:' , Multiplicador*LimInf)\n",
        "  LimInf = LimInf + 1\n"
      ],
      "metadata": {
        "id": "DM7vLt5J-AE-",
        "colab": {
          "base_uri": "https://localhost:8080/"
        },
        "outputId": "1266f84d-5fbd-4150-e9ba-4deefd1cda56"
      },
      "execution_count": null,
      "outputs": [
        {
          "output_type": "stream",
          "name": "stdout",
          "text": [
            "A multiplicação de 5 x 1 Resulta em: 5\n",
            "A multiplicação de 5 x 2 Resulta em: 10\n",
            "A multiplicação de 5 x 3 Resulta em: 15\n",
            "A multiplicação de 5 x 4 Resulta em: 20\n",
            "A multiplicação de 5 x 5 Resulta em: 25\n",
            "A multiplicação de 5 x 6 Resulta em: 30\n",
            "A multiplicação de 5 x 7 Resulta em: 35\n",
            "A multiplicação de 5 x 8 Resulta em: 40\n",
            "A multiplicação de 5 x 9 Resulta em: 45\n",
            "A multiplicação de 5 x 10 Resulta em: 50\n"
          ]
        }
      ]
    },
    {
      "cell_type": "code",
      "source": [
        "# Usando repetição for\n"
      ],
      "metadata": {
        "id": "spmPyWloy2nb"
      },
      "execution_count": null,
      "outputs": []
    },
    {
      "cell_type": "code",
      "source": [
        "NumIni = 1\n",
        "NumFin = 10\n",
        "Numeros = [Registro for Registro in range(NumIni,NumFin+1) ]\n",
        "\n",
        "Numeros\n"
      ],
      "metadata": {
        "colab": {
          "base_uri": "https://localhost:8080/"
        },
        "id": "AfWcddM-BAFX",
        "outputId": "6a157cbd-abb3-4a37-8fc7-f24c6b8a9667"
      },
      "execution_count": null,
      "outputs": [
        {
          "output_type": "execute_result",
          "data": {
            "text/plain": [
              "[1, 2, 3, 4, 5, 6, 7, 8, 9, 10]"
            ]
          },
          "metadata": {},
          "execution_count": 6
        }
      ]
    },
    {
      "cell_type": "code",
      "source": [
        "Multiplicador = 5\n",
        "NumIni = 1\n",
        "NumFin = 10\n",
        "\n",
        "Numeros = [Registro for Registro in range(NumIni,NumFin+1) ]\n",
        "Numeros\n",
        "\n",
        "for Registro in Numeros:\n",
        "  print('A multiplicação de',Multiplicador,'x',Registro,'resulta em:', Multiplicador*Registro)\n",
        "\n",
        "else:\n",
        "  print('Fim')"
      ],
      "metadata": {
        "colab": {
          "base_uri": "https://localhost:8080/"
        },
        "id": "xaZVA4rKBndP",
        "outputId": "9c1ab706-3f99-4489-9146-314618250005"
      },
      "execution_count": null,
      "outputs": [
        {
          "output_type": "stream",
          "name": "stdout",
          "text": [
            "A multiplicação de 5 x 1 resulta em: 5\n",
            "A multiplicação de 5 x 2 resulta em: 10\n",
            "A multiplicação de 5 x 3 resulta em: 15\n",
            "A multiplicação de 5 x 4 resulta em: 20\n",
            "A multiplicação de 5 x 5 resulta em: 25\n",
            "A multiplicação de 5 x 6 resulta em: 30\n",
            "A multiplicação de 5 x 7 resulta em: 35\n",
            "A multiplicação de 5 x 8 resulta em: 40\n",
            "A multiplicação de 5 x 9 resulta em: 45\n",
            "A multiplicação de 5 x 10 resulta em: 50\n",
            "Fim\n"
          ]
        }
      ]
    },
    {
      "cell_type": "code",
      "source": [],
      "metadata": {
        "id": "wxWVSPqwCw1L"
      },
      "execution_count": null,
      "outputs": []
    }
  ]
}